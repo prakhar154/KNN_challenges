{
 "cells": [
  {
   "cell_type": "code",
   "execution_count": 1,
   "metadata": {},
   "outputs": [],
   "source": [
    "import numpy as np\n",
    "import pandas as pd\n",
    "import matplotlib.pyplot as plt"
   ]
  },
  {
   "cell_type": "code",
   "execution_count": 2,
   "metadata": {},
   "outputs": [],
   "source": [
    "dfx = pd.read_csv(r\"Training Data/Diabetes_XTrain.csv\")\n",
    "dfy = pd.read_csv(r\"Training Data/Diabetes_YTrain.csv\")\n",
    "\n",
    "x_train = dfx.values\n",
    "y_train = dfy.values\n",
    "\n",
    "dfxt = pd.read_csv(r\"Test data/Diabetes_XTest.csv\")\n",
    "x_test = dfxt.values"
   ]
  },
  {
   "cell_type": "markdown",
   "metadata": {},
   "source": [
    "### Algorithm"
   ]
  },
  {
   "cell_type": "code",
   "execution_count": 3,
   "metadata": {},
   "outputs": [],
   "source": [
    "def distance(p1, p2):\n",
    "    return np.sqrt(np.sum((p1-p2))**2)"
   ]
  },
  {
   "cell_type": "code",
   "execution_count": 12,
   "metadata": {},
   "outputs": [],
   "source": [
    "def knn(x, y, test, k=8):\n",
    "    \n",
    "    m = x.shape[0]\n",
    "    d = []\n",
    "    \n",
    "    for i in range(m):\n",
    "        dist = distance(x[i], test)\n",
    "        d.append((dist, y[i]))\n",
    "        \n",
    "    d = np.array(sorted(d))[:, 1]\n",
    "    d = d[:k]\n",
    "    t = np.unique(d, return_counts=True)\n",
    "    idx = np.argmax(t[1])\n",
    "    pred = int(t[0][idx])\n",
    "    \n",
    "    return int(pred)\n",
    "    "
   ]
  },
  {
   "cell_type": "code",
   "execution_count": 13,
   "metadata": {},
   "outputs": [],
   "source": [
    "y_pred = []\n",
    "\n",
    "for i in range(x_test.shape[0]):\n",
    "    pred = knn(x_train, y_train, x_test[i])\n",
    "    y_pred.append(pred)"
   ]
  },
  {
   "cell_type": "code",
   "execution_count": 14,
   "metadata": {},
   "outputs": [],
   "source": [
    "y_pred = np.array(y_pred)"
   ]
  },
  {
   "cell_type": "code",
   "execution_count": 15,
   "metadata": {},
   "outputs": [],
   "source": [
    "df = pd.DataFrame(y_pred, columns=['Outcome'])\n",
    "\n",
    "df.to_csv(r\"C:\\Users\\prakhar\\Desktop\\class\\export.csv\", index=False)"
   ]
  },
  {
   "cell_type": "code",
   "execution_count": null,
   "metadata": {},
   "outputs": [],
   "source": []
  }
 ],
 "metadata": {
  "kernelspec": {
   "display_name": "Python 3",
   "language": "python",
   "name": "python3"
  },
  "language_info": {
   "codemirror_mode": {
    "name": "ipython",
    "version": 3
   },
   "file_extension": ".py",
   "mimetype": "text/x-python",
   "name": "python",
   "nbconvert_exporter": "python",
   "pygments_lexer": "ipython3",
   "version": "3.7.3"
  }
 },
 "nbformat": 4,
 "nbformat_minor": 2
}
